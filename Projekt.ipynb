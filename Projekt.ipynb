{
 "cells": [
  {
   "cell_type": "code",
   "execution_count": 2,
   "id": "727b2b8d-5fe7-4b8b-8a43-046e86a63b6c",
   "metadata": {},
   "outputs": [],
   "source": [
    "import math\n",
    "\n",
    "import numpy as np\n",
    "import pandas as pd\n",
    "import matplotlib.pyplot as plt\n",
    "\n",
    "from sklearn.neighbors import NearestNeighbors\n",
    "from sklearn.preprocessing import MinMaxScaler"
   ]
  },
  {
   "cell_type": "markdown",
   "metadata": {},
   "source": [
    "#### Load dataset"
   ]
  },
  {
   "cell_type": "code",
   "execution_count": 3,
   "id": "588e5667-2dd7-40f5-946a-bd3127e85bc8",
   "metadata": {},
   "outputs": [
    {
     "name": "stdout",
     "output_type": "stream",
     "text": [
      "(1326, 7)\n"
     ]
    },
    {
     "data": {
      "text/html": [
       "<div>\n",
       "<style scoped>\n",
       "    .dataframe tbody tr th:only-of-type {\n",
       "        vertical-align: middle;\n",
       "    }\n",
       "\n",
       "    .dataframe tbody tr th {\n",
       "        vertical-align: top;\n",
       "    }\n",
       "\n",
       "    .dataframe thead th {\n",
       "        text-align: right;\n",
       "    }\n",
       "</style>\n",
       "<table border=\"1\" class=\"dataframe\">\n",
       "  <thead>\n",
       "    <tr style=\"text-align: right;\">\n",
       "      <th></th>\n",
       "      <th>Name</th>\n",
       "      <th>Applicants total</th>\n",
       "      <th>Enrolled total</th>\n",
       "      <th>Tuition and fees</th>\n",
       "      <th>Costs of living on campus</th>\n",
       "      <th>Ranking</th>\n",
       "      <th>Ranking display</th>\n",
       "    </tr>\n",
       "  </thead>\n",
       "  <tbody>\n",
       "    <tr>\n",
       "      <th>0</th>\n",
       "      <td>Alabama A &amp; M University</td>\n",
       "      <td>6142.0</td>\n",
       "      <td>1104.0</td>\n",
       "      <td>7182.0</td>\n",
       "      <td>27441.0</td>\n",
       "      <td>1000+</td>\n",
       "      <td>1000+</td>\n",
       "    </tr>\n",
       "    <tr>\n",
       "      <th>1</th>\n",
       "      <td>University of Alabama at Birmingham</td>\n",
       "      <td>5689.0</td>\n",
       "      <td>1773.0</td>\n",
       "      <td>7206.0</td>\n",
       "      <td>31687.0</td>\n",
       "      <td>301-400</td>\n",
       "      <td>top 1000</td>\n",
       "    </tr>\n",
       "    <tr>\n",
       "      <th>2</th>\n",
       "      <td>University of Alabama in Huntsville</td>\n",
       "      <td>2054.0</td>\n",
       "      <td>651.0</td>\n",
       "      <td>9192.0</td>\n",
       "      <td>35780.0</td>\n",
       "      <td>1000+</td>\n",
       "      <td>1000+</td>\n",
       "    </tr>\n",
       "    <tr>\n",
       "      <th>3</th>\n",
       "      <td>Alabama State University</td>\n",
       "      <td>10245.0</td>\n",
       "      <td>1479.0</td>\n",
       "      <td>8720.0</td>\n",
       "      <td>25222.0</td>\n",
       "      <td>1000+</td>\n",
       "      <td>1000+</td>\n",
       "    </tr>\n",
       "    <tr>\n",
       "      <th>4</th>\n",
       "      <td>The University of Alabama</td>\n",
       "      <td>30975.0</td>\n",
       "      <td>6454.0</td>\n",
       "      <td>9450.0</td>\n",
       "      <td>41500.0</td>\n",
       "      <td>1000+</td>\n",
       "      <td>1000+</td>\n",
       "    </tr>\n",
       "  </tbody>\n",
       "</table>\n",
       "</div>"
      ],
      "text/plain": [
       "                                  Name  Applicants total  Enrolled total  \\\n",
       "0             Alabama A & M University            6142.0          1104.0   \n",
       "1  University of Alabama at Birmingham            5689.0          1773.0   \n",
       "2  University of Alabama in Huntsville            2054.0           651.0   \n",
       "3             Alabama State University           10245.0          1479.0   \n",
       "4            The University of Alabama           30975.0          6454.0   \n",
       "\n",
       "   Tuition and fees  Costs of living on campus  Ranking Ranking display  \n",
       "0            7182.0                    27441.0    1000+           1000+  \n",
       "1            7206.0                    31687.0  301-400        top 1000  \n",
       "2            9192.0                    35780.0    1000+           1000+  \n",
       "3            8720.0                    25222.0    1000+           1000+  \n",
       "4            9450.0                    41500.0    1000+           1000+  "
      ]
     },
     "execution_count": 3,
     "metadata": {},
     "output_type": "execute_result"
    }
   ],
   "source": [
    "# create dataframe from file\n",
    "df = pd.read_csv(\"university_data.csv\")\n",
    "print(df.shape)\n",
    "df.head()"
   ]
  },
  {
   "cell_type": "markdown",
   "metadata": {},
   "source": [
    "#### Add Enrolled [%]"
   ]
  },
  {
   "cell_type": "code",
   "execution_count": 4,
   "id": "dfc453cd-58bf-4424-8aa5-cb32c448a12f",
   "metadata": {},
   "outputs": [
    {
     "data": {
      "text/html": [
       "<div>\n",
       "<style scoped>\n",
       "    .dataframe tbody tr th:only-of-type {\n",
       "        vertical-align: middle;\n",
       "    }\n",
       "\n",
       "    .dataframe tbody tr th {\n",
       "        vertical-align: top;\n",
       "    }\n",
       "\n",
       "    .dataframe thead th {\n",
       "        text-align: right;\n",
       "    }\n",
       "</style>\n",
       "<table border=\"1\" class=\"dataframe\">\n",
       "  <thead>\n",
       "    <tr style=\"text-align: right;\">\n",
       "      <th></th>\n",
       "      <th>Name</th>\n",
       "      <th>Enrolled percentage</th>\n",
       "      <th>Tuition and fees</th>\n",
       "      <th>Costs of living on campus</th>\n",
       "      <th>Ranking</th>\n",
       "      <th>Ranking display</th>\n",
       "    </tr>\n",
       "  </thead>\n",
       "  <tbody>\n",
       "    <tr>\n",
       "      <th>0</th>\n",
       "      <td>Alabama A &amp; M University</td>\n",
       "      <td>17.97</td>\n",
       "      <td>7182.0</td>\n",
       "      <td>27441.0</td>\n",
       "      <td>1000+</td>\n",
       "      <td>1000+</td>\n",
       "    </tr>\n",
       "    <tr>\n",
       "      <th>1</th>\n",
       "      <td>University of Alabama at Birmingham</td>\n",
       "      <td>31.17</td>\n",
       "      <td>7206.0</td>\n",
       "      <td>31687.0</td>\n",
       "      <td>301-400</td>\n",
       "      <td>top 1000</td>\n",
       "    </tr>\n",
       "    <tr>\n",
       "      <th>2</th>\n",
       "      <td>University of Alabama in Huntsville</td>\n",
       "      <td>31.69</td>\n",
       "      <td>9192.0</td>\n",
       "      <td>35780.0</td>\n",
       "      <td>1000+</td>\n",
       "      <td>1000+</td>\n",
       "    </tr>\n",
       "    <tr>\n",
       "      <th>3</th>\n",
       "      <td>Alabama State University</td>\n",
       "      <td>14.44</td>\n",
       "      <td>8720.0</td>\n",
       "      <td>25222.0</td>\n",
       "      <td>1000+</td>\n",
       "      <td>1000+</td>\n",
       "    </tr>\n",
       "    <tr>\n",
       "      <th>4</th>\n",
       "      <td>The University of Alabama</td>\n",
       "      <td>20.84</td>\n",
       "      <td>9450.0</td>\n",
       "      <td>41500.0</td>\n",
       "      <td>1000+</td>\n",
       "      <td>1000+</td>\n",
       "    </tr>\n",
       "  </tbody>\n",
       "</table>\n",
       "</div>"
      ],
      "text/plain": [
       "                                  Name  Enrolled percentage  Tuition and fees  \\\n",
       "0             Alabama A & M University                17.97            7182.0   \n",
       "1  University of Alabama at Birmingham                31.17            7206.0   \n",
       "2  University of Alabama in Huntsville                31.69            9192.0   \n",
       "3             Alabama State University                14.44            8720.0   \n",
       "4            The University of Alabama                20.84            9450.0   \n",
       "\n",
       "   Costs of living on campus  Ranking Ranking display  \n",
       "0                    27441.0    1000+           1000+  \n",
       "1                    31687.0  301-400        top 1000  \n",
       "2                    35780.0    1000+           1000+  \n",
       "3                    25222.0    1000+           1000+  \n",
       "4                    41500.0    1000+           1000+  "
      ]
     },
     "execution_count": 4,
     "metadata": {},
     "output_type": "execute_result"
    }
   ],
   "source": [
    "# Add % split of enrolled/applicants\n",
    "df[\"Enrolled percentage\"] = round(df[\"Enrolled total\"] / df[\"Applicants total\"] * 100, 2)\n",
    "df = df.drop(columns=['Enrolled total', 'Applicants total'])\n",
    "enrolledPercentageColumn = df.pop('Enrolled percentage')\n",
    "df.insert(1, 'Enrolled percentage', enrolledPercentageColumn)\n",
    "df.head()"
   ]
  },
  {
   "cell_type": "code",
   "execution_count": 5,
   "id": "ff1b101b",
   "metadata": {},
   "outputs": [],
   "source": [
    "def modifyRanking(ranking):\n",
    "    if '-' in ranking:\n",
    "        ranking = (int(ranking.split('-')[0]) + int(ranking.split('-')[1])) // 2\n",
    "    elif '+' in ranking:\n",
    "        ranking = ranking[:len(ranking)-1]\n",
    "    return ranking"
   ]
  },
  {
   "cell_type": "markdown",
   "id": "6761d5ba",
   "metadata": {},
   "source": [
    "### Correlation Matrix for top 1500 universities"
   ]
  },
  {
   "cell_type": "code",
   "execution_count": 6,
   "id": "004b6a5b-a4c9-49bc-83f9-91e655853548",
   "metadata": {},
   "outputs": [
    {
     "data": {
      "text/html": [
       "<style type=\"text/css\">\n",
       "#T_829a7_row0_col0, #T_829a7_row1_col1, #T_829a7_row2_col2, #T_829a7_row3_col3 {\n",
       "  background-color: #b40426;\n",
       "  color: #f1f1f1;\n",
       "}\n",
       "#T_829a7_row0_col1, #T_829a7_row0_col2, #T_829a7_row2_col0, #T_829a7_row2_col3 {\n",
       "  background-color: #3b4cc0;\n",
       "  color: #f1f1f1;\n",
       "}\n",
       "#T_829a7_row0_col3 {\n",
       "  background-color: #edd1c2;\n",
       "  color: #000000;\n",
       "}\n",
       "#T_829a7_row1_col0 {\n",
       "  background-color: #4358cb;\n",
       "  color: #f1f1f1;\n",
       "}\n",
       "#T_829a7_row1_col2, #T_829a7_row2_col1 {\n",
       "  background-color: #c32e31;\n",
       "  color: #f1f1f1;\n",
       "}\n",
       "#T_829a7_row1_col3 {\n",
       "  background-color: #506bda;\n",
       "  color: #f1f1f1;\n",
       "}\n",
       "#T_829a7_row3_col0 {\n",
       "  background-color: #f7b99e;\n",
       "  color: #000000;\n",
       "}\n",
       "#T_829a7_row3_col1 {\n",
       "  background-color: #8badfd;\n",
       "  color: #000000;\n",
       "}\n",
       "#T_829a7_row3_col2 {\n",
       "  background-color: #7ea1fa;\n",
       "  color: #f1f1f1;\n",
       "}\n",
       "</style>\n",
       "<table id=\"T_829a7\">\n",
       "  <thead>\n",
       "    <tr>\n",
       "      <th class=\"blank level0\" >&nbsp;</th>\n",
       "      <th id=\"T_829a7_level0_col0\" class=\"col_heading level0 col0\" >Enrolled percentage</th>\n",
       "      <th id=\"T_829a7_level0_col1\" class=\"col_heading level0 col1\" >Tuition and fees</th>\n",
       "      <th id=\"T_829a7_level0_col2\" class=\"col_heading level0 col2\" >Costs of living on campus</th>\n",
       "      <th id=\"T_829a7_level0_col3\" class=\"col_heading level0 col3\" >Ranking</th>\n",
       "    </tr>\n",
       "  </thead>\n",
       "  <tbody>\n",
       "    <tr>\n",
       "      <th id=\"T_829a7_level0_row0\" class=\"row_heading level0 row0\" >Enrolled percentage</th>\n",
       "      <td id=\"T_829a7_row0_col0\" class=\"data row0 col0\" >1.000000</td>\n",
       "      <td id=\"T_829a7_row0_col1\" class=\"data row0 col1\" >-0.736428</td>\n",
       "      <td id=\"T_829a7_row0_col2\" class=\"data row0 col2\" >-0.789096</td>\n",
       "      <td id=\"T_829a7_row0_col3\" class=\"data row0 col3\" >0.397754</td>\n",
       "    </tr>\n",
       "    <tr>\n",
       "      <th id=\"T_829a7_level0_row1\" class=\"row_heading level0 row1\" >Tuition and fees</th>\n",
       "      <td id=\"T_829a7_row1_col0\" class=\"data row1 col0\" >-0.736428</td>\n",
       "      <td id=\"T_829a7_row1_col1\" class=\"data row1 col1\" >1.000000</td>\n",
       "      <td id=\"T_829a7_row1_col2\" class=\"data row1 col2\" >0.929673</td>\n",
       "      <td id=\"T_829a7_row1_col3\" class=\"data row1 col3\" >-0.313554</td>\n",
       "    </tr>\n",
       "    <tr>\n",
       "      <th id=\"T_829a7_level0_row2\" class=\"row_heading level0 row2\" >Costs of living on campus</th>\n",
       "      <td id=\"T_829a7_row2_col0\" class=\"data row2 col0\" >-0.789096</td>\n",
       "      <td id=\"T_829a7_row2_col1\" class=\"data row2 col1\" >0.929673</td>\n",
       "      <td id=\"T_829a7_row2_col2\" class=\"data row2 col2\" >1.000000</td>\n",
       "      <td id=\"T_829a7_row2_col3\" class=\"data row2 col3\" >-0.413275</td>\n",
       "    </tr>\n",
       "    <tr>\n",
       "      <th id=\"T_829a7_level0_row3\" class=\"row_heading level0 row3\" >Ranking</th>\n",
       "      <td id=\"T_829a7_row3_col0\" class=\"data row3 col0\" >0.397754</td>\n",
       "      <td id=\"T_829a7_row3_col1\" class=\"data row3 col1\" >-0.313554</td>\n",
       "      <td id=\"T_829a7_row3_col2\" class=\"data row3 col2\" >-0.413275</td>\n",
       "      <td id=\"T_829a7_row3_col3\" class=\"data row3 col3\" >1.000000</td>\n",
       "    </tr>\n",
       "  </tbody>\n",
       "</table>\n"
      ],
      "text/plain": [
       "<pandas.io.formats.style.Styler at 0x1cab762faf0>"
      ]
     },
     "execution_count": 6,
     "metadata": {},
     "output_type": "execute_result"
    }
   ],
   "source": [
    "topUniDf = df[df['Ranking display'] == 'top 1000'].drop(columns=['Name', 'Ranking display'])\n",
    "topUniDf['Ranking'] = df.apply(lambda row: modifyRanking(row['Ranking']), axis=1)\n",
    "topUniDf['Ranking'] = pd.to_numeric(topUniDf['Ranking'])\n",
    "\n",
    "corrMatrixTopUni = topUniDf.corr(method='pearson')\n",
    "corrMatrixTopUni.style.background_gradient(cmap='coolwarm')"
   ]
  },
  {
   "cell_type": "markdown",
   "id": "0200ac53",
   "metadata": {},
   "source": [
    "### Correlation Matrix for universities ranked 1500+"
   ]
  },
  {
   "cell_type": "code",
   "execution_count": 7,
   "id": "cfb48bea-df53-48d3-b5a9-9b697b06c0db",
   "metadata": {},
   "outputs": [
    {
     "data": {
      "text/html": [
       "<style type=\"text/css\">\n",
       "#T_09b3a_row0_col0, #T_09b3a_row1_col1, #T_09b3a_row2_col2 {\n",
       "  background-color: #b40426;\n",
       "  color: #f1f1f1;\n",
       "}\n",
       "#T_09b3a_row0_col1, #T_09b3a_row0_col2, #T_09b3a_row2_col0 {\n",
       "  background-color: #3b4cc0;\n",
       "  color: #f1f1f1;\n",
       "}\n",
       "#T_09b3a_row1_col0 {\n",
       "  background-color: #4055c8;\n",
       "  color: #f1f1f1;\n",
       "}\n",
       "#T_09b3a_row1_col2 {\n",
       "  background-color: #d44e41;\n",
       "  color: #f1f1f1;\n",
       "}\n",
       "#T_09b3a_row2_col1 {\n",
       "  background-color: #d55042;\n",
       "  color: #f1f1f1;\n",
       "}\n",
       "</style>\n",
       "<table id=\"T_09b3a\">\n",
       "  <thead>\n",
       "    <tr>\n",
       "      <th class=\"blank level0\" >&nbsp;</th>\n",
       "      <th id=\"T_09b3a_level0_col0\" class=\"col_heading level0 col0\" >Enrolled percentage</th>\n",
       "      <th id=\"T_09b3a_level0_col1\" class=\"col_heading level0 col1\" >Tuition and fees</th>\n",
       "      <th id=\"T_09b3a_level0_col2\" class=\"col_heading level0 col2\" >Costs of living on campus</th>\n",
       "    </tr>\n",
       "  </thead>\n",
       "  <tbody>\n",
       "    <tr>\n",
       "      <th id=\"T_09b3a_level0_row0\" class=\"row_heading level0 row0\" >Enrolled percentage</th>\n",
       "      <td id=\"T_09b3a_row0_col0\" class=\"data row0 col0\" >1.000000</td>\n",
       "      <td id=\"T_09b3a_row0_col1\" class=\"data row0 col1\" >-0.453411</td>\n",
       "      <td id=\"T_09b3a_row0_col2\" class=\"data row0 col2\" >-0.483999</td>\n",
       "    </tr>\n",
       "    <tr>\n",
       "      <th id=\"T_09b3a_level0_row1\" class=\"row_heading level0 row1\" >Tuition and fees</th>\n",
       "      <td id=\"T_09b3a_row1_col0\" class=\"data row1 col0\" >-0.453411</td>\n",
       "      <td id=\"T_09b3a_row1_col1\" class=\"data row1 col1\" >1.000000</td>\n",
       "      <td id=\"T_09b3a_row1_col2\" class=\"data row1 col2\" >0.862112</td>\n",
       "    </tr>\n",
       "    <tr>\n",
       "      <th id=\"T_09b3a_level0_row2\" class=\"row_heading level0 row2\" >Costs of living on campus</th>\n",
       "      <td id=\"T_09b3a_row2_col0\" class=\"data row2 col0\" >-0.483999</td>\n",
       "      <td id=\"T_09b3a_row2_col1\" class=\"data row2 col1\" >0.862112</td>\n",
       "      <td id=\"T_09b3a_row2_col2\" class=\"data row2 col2\" >1.000000</td>\n",
       "    </tr>\n",
       "  </tbody>\n",
       "</table>\n"
      ],
      "text/plain": [
       "<pandas.io.formats.style.Styler at 0x1cad896b490>"
      ]
     },
     "execution_count": 7,
     "metadata": {},
     "output_type": "execute_result"
    }
   ],
   "source": [
    "nonTopUniDf = df[df['Ranking display'] == '1000+'].drop(columns=['Name', 'Ranking', 'Ranking display'])\n",
    "\n",
    "corrMatrixNonTopUni = nonTopUniDf.corr(method='pearson')\n",
    "corrMatrixNonTopUni.style.background_gradient(cmap='coolwarm')"
   ]
  },
  {
   "cell_type": "markdown",
   "id": "3c52a2ff",
   "metadata": {},
   "source": [
    "### Correlation Matrix for all universities"
   ]
  },
  {
   "cell_type": "code",
   "execution_count": 8,
   "id": "8ff0a29f-6834-44ee-b054-b48e28f52c13",
   "metadata": {},
   "outputs": [
    {
     "data": {
      "text/html": [
       "<style type=\"text/css\">\n",
       "#T_deffc_row0_col0, #T_deffc_row1_col1, #T_deffc_row2_col2, #T_deffc_row3_col3 {\n",
       "  background-color: #b40426;\n",
       "  color: #f1f1f1;\n",
       "}\n",
       "#T_deffc_row0_col1, #T_deffc_row0_col2, #T_deffc_row2_col0, #T_deffc_row2_col3 {\n",
       "  background-color: #3b4cc0;\n",
       "  color: #f1f1f1;\n",
       "}\n",
       "#T_deffc_row0_col3 {\n",
       "  background-color: #96b7ff;\n",
       "  color: #000000;\n",
       "}\n",
       "#T_deffc_row1_col0 {\n",
       "  background-color: #4055c8;\n",
       "  color: #f1f1f1;\n",
       "}\n",
       "#T_deffc_row1_col2, #T_deffc_row2_col1 {\n",
       "  background-color: #d55042;\n",
       "  color: #f1f1f1;\n",
       "}\n",
       "#T_deffc_row1_col3 {\n",
       "  background-color: #6384eb;\n",
       "  color: #f1f1f1;\n",
       "}\n",
       "#T_deffc_row3_col0 {\n",
       "  background-color: #c3d5f4;\n",
       "  color: #000000;\n",
       "}\n",
       "#T_deffc_row3_col1 {\n",
       "  background-color: #97b8ff;\n",
       "  color: #000000;\n",
       "}\n",
       "#T_deffc_row3_col2 {\n",
       "  background-color: #7699f6;\n",
       "  color: #f1f1f1;\n",
       "}\n",
       "</style>\n",
       "<table id=\"T_deffc\">\n",
       "  <thead>\n",
       "    <tr>\n",
       "      <th class=\"blank level0\" >&nbsp;</th>\n",
       "      <th id=\"T_deffc_level0_col0\" class=\"col_heading level0 col0\" >Enrolled percentage</th>\n",
       "      <th id=\"T_deffc_level0_col1\" class=\"col_heading level0 col1\" >Tuition and fees</th>\n",
       "      <th id=\"T_deffc_level0_col2\" class=\"col_heading level0 col2\" >Costs of living on campus</th>\n",
       "      <th id=\"T_deffc_level0_col3\" class=\"col_heading level0 col3\" >Ranking</th>\n",
       "    </tr>\n",
       "  </thead>\n",
       "  <tbody>\n",
       "    <tr>\n",
       "      <th id=\"T_deffc_level0_row0\" class=\"row_heading level0 row0\" >Enrolled percentage</th>\n",
       "      <td id=\"T_deffc_row0_col0\" class=\"data row0 col0\" >1.000000</td>\n",
       "      <td id=\"T_deffc_row0_col1\" class=\"data row0 col1\" >-0.483321</td>\n",
       "      <td id=\"T_deffc_row0_col2\" class=\"data row0 col2\" >-0.514040</td>\n",
       "      <td id=\"T_deffc_row0_col3\" class=\"data row0 col3\" >0.106312</td>\n",
       "    </tr>\n",
       "    <tr>\n",
       "      <th id=\"T_deffc_level0_row1\" class=\"row_heading level0 row1\" >Tuition and fees</th>\n",
       "      <td id=\"T_deffc_row1_col0\" class=\"data row1 col0\" >-0.483321</td>\n",
       "      <td id=\"T_deffc_row1_col1\" class=\"data row1 col1\" >1.000000</td>\n",
       "      <td id=\"T_deffc_row1_col2\" class=\"data row1 col2\" >0.855954</td>\n",
       "      <td id=\"T_deffc_row1_col3\" class=\"data row1 col3\" >-0.071206</td>\n",
       "    </tr>\n",
       "    <tr>\n",
       "      <th id=\"T_deffc_level0_row2\" class=\"row_heading level0 row2\" >Costs of living on campus</th>\n",
       "      <td id=\"T_deffc_row2_col0\" class=\"data row2 col0\" >-0.514040</td>\n",
       "      <td id=\"T_deffc_row2_col1\" class=\"data row2 col1\" >0.855954</td>\n",
       "      <td id=\"T_deffc_row2_col2\" class=\"data row2 col2\" >1.000000</td>\n",
       "      <td id=\"T_deffc_row2_col3\" class=\"data row2 col3\" >-0.234522</td>\n",
       "    </tr>\n",
       "    <tr>\n",
       "      <th id=\"T_deffc_level0_row3\" class=\"row_heading level0 row3\" >Ranking</th>\n",
       "      <td id=\"T_deffc_row3_col0\" class=\"data row3 col0\" >0.106312</td>\n",
       "      <td id=\"T_deffc_row3_col1\" class=\"data row3 col1\" >-0.071206</td>\n",
       "      <td id=\"T_deffc_row3_col2\" class=\"data row3 col2\" >-0.234522</td>\n",
       "      <td id=\"T_deffc_row3_col3\" class=\"data row3 col3\" >1.000000</td>\n",
       "    </tr>\n",
       "  </tbody>\n",
       "</table>\n"
      ],
      "text/plain": [
       "<pandas.io.formats.style.Styler at 0x1cab762f1f0>"
      ]
     },
     "execution_count": 8,
     "metadata": {},
     "output_type": "execute_result"
    }
   ],
   "source": [
    "allUniWithRankDf = df.drop(columns=['Name','Ranking display'])\n",
    "\n",
    "allUniWithRankDf['Ranking'] = df.apply(lambda row: modifyRanking(row['Ranking']), axis=1)\n",
    "allUniWithRankDf['Ranking'] = pd.to_numeric(allUniWithRankDf['Ranking'])\n",
    "\n",
    "corrMatrixAllUniWithRank = allUniWithRankDf.corr(method='pearson')\n",
    "corrMatrixAllUniWithRank.style.background_gradient(cmap='coolwarm')"
   ]
  },
  {
   "cell_type": "markdown",
   "metadata": {},
   "source": [
    "#### Outlier detection"
   ]
  },
  {
   "cell_type": "code",
   "execution_count": 30,
   "metadata": {},
   "outputs": [
    {
     "name": "stdout",
     "output_type": "stream",
     "text": [
      "(1326, 3)\n"
     ]
    },
    {
     "data": {
      "text/plain": [
       "array([[0.18488461, 0.07357357, 0.29936555],\n",
       "       [0.35226985, 0.07410352, 0.37859675],\n",
       "       [0.35886381, 0.11795619, 0.45497294],\n",
       "       ...,\n",
       "       [0.18006594, 0.04349938, 0.36738197],\n",
       "       [0.01014456, 0.60612083, 0.69637992],\n",
       "       [0.1648491 , 0.44983219, 0.50763202]])"
      ]
     },
     "execution_count": 30,
     "metadata": {},
     "output_type": "execute_result"
    }
   ],
   "source": [
    "anomalyDetectionDf = df.drop(columns=['Name', 'Ranking', 'Ranking display'])\n",
    "print(anomalyDetectionDf.shape)\n",
    "scaler = MinMaxScaler()\n",
    "normalizedData = scaler.fit_transform(anomalyDetectionDf)\n",
    "normalizedData"
   ]
  },
  {
   "cell_type": "code",
   "execution_count": 31,
   "metadata": {},
   "outputs": [
    {
     "name": "stdout",
     "output_type": "stream",
     "text": [
      "n_neighbors = 8\n"
     ]
    },
    {
     "data": {
      "text/plain": [
       "<matplotlib.patches.Polygon at 0x1cad8bd2920>"
      ]
     },
     "execution_count": 31,
     "metadata": {},
     "output_type": "execute_result"
    },
    {
     "data": {
      "image/png": "[encoded data removed]",
      "text/plain": [
       "<Figure size 640x480 with 1 Axes>"
      ]
     },
     "metadata": {},
     "output_type": "display_data"
    }
   ],
   "source": [
    "threshold = 0.065\n",
    "n_neighbors = math.ceil(math.log(anomalyDetectionDf.shape[0]))\n",
    "\n",
    "print(f'n_neighbors = {n_neighbors}')\n",
    "\n",
    "neigh = NearestNeighbors(n_neighbors=n_neighbors)\n",
    "neigh.fit(normalizedData)\n",
    "\n",
    "distances, indices = neigh.kneighbors(normalizedData)\n",
    "anomalyDetectionDf['distance'] = distances.mean(axis=1)\n",
    "anomalyDetectionDf.head()\n",
    "\n",
    "ax = plt.subplot()\n",
    "ax.plot(anomalyDetectionDf['distance'])\n",
    "ax.axhspan(threshold, max(anomalyDetectionDf['distance']), alpha=0.2, color='red')"
   ]
  },
  {
   "cell_type": "code",
   "execution_count": 32,
   "metadata": {},
   "outputs": [
    {
     "data": {
      "text/plain": [
       "Ranking\n",
       "1000+      63\n",
       "701-800     2\n",
       "37          1\n",
       "401-500     1\n",
       "501-600     1\n",
       "Name: count, dtype: int64"
      ]
     },
     "execution_count": 32,
     "metadata": {},
     "output_type": "execute_result"
    }
   ],
   "source": [
    "outliersDf = anomalyDetectionDf[anomalyDetectionDf['distance'] > threshold]\n",
    "outliersIndices = outliersDf.index.tolist() # powinno wyjść ok. 1% (13) / 5% (66) / 10% (130)\n",
    "outliersDf = df.loc[outliersIndices]\n",
    "outliersDf['Ranking'].value_counts()"
   ]
  },
  {
   "cell_type": "code",
   "execution_count": 33,
   "metadata": {},
   "outputs": [
    {
     "data": {
      "text/html": [
       "<style type=\"text/css\">\n",
       "#T_21afc_row0_col0, #T_21afc_row1_col1, #T_21afc_row2_col2, #T_21afc_row3_col3 {\n",
       "  background-color: #b40426;\n",
       "  color: #f1f1f1;\n",
       "}\n",
       "#T_21afc_row0_col1, #T_21afc_row2_col0, #T_21afc_row2_col3, #T_21afc_row3_col2 {\n",
       "  background-color: #3b4cc0;\n",
       "  color: #f1f1f1;\n",
       "}\n",
       "#T_21afc_row0_col2 {\n",
       "  background-color: #3f53c6;\n",
       "  color: #f1f1f1;\n",
       "}\n",
       "#T_21afc_row0_col3 {\n",
       "  background-color: #9dbdff;\n",
       "  color: #000000;\n",
       "}\n",
       "#T_21afc_row1_col0 {\n",
       "  background-color: #7093f3;\n",
       "  color: #f1f1f1;\n",
       "}\n",
       "#T_21afc_row1_col2 {\n",
       "  background-color: #ea7b60;\n",
       "  color: #f1f1f1;\n",
       "}\n",
       "#T_21afc_row1_col3 {\n",
       "  background-color: #85a8fc;\n",
       "  color: #f1f1f1;\n",
       "}\n",
       "#T_21afc_row2_col1 {\n",
       "  background-color: #f18d6f;\n",
       "  color: #f1f1f1;\n",
       "}\n",
       "#T_21afc_row3_col0 {\n",
       "  background-color: #97b8ff;\n",
       "  color: #000000;\n",
       "}\n",
       "#T_21afc_row3_col1 {\n",
       "  background-color: #4a63d3;\n",
       "  color: #f1f1f1;\n",
       "}\n",
       "</style>\n",
       "<table id=\"T_21afc\">\n",
       "  <thead>\n",
       "    <tr>\n",
       "      <th class=\"blank level0\" >&nbsp;</th>\n",
       "      <th id=\"T_21afc_level0_col0\" class=\"col_heading level0 col0\" >Enrolled percentage</th>\n",
       "      <th id=\"T_21afc_level0_col1\" class=\"col_heading level0 col1\" >Tuition and fees</th>\n",
       "      <th id=\"T_21afc_level0_col2\" class=\"col_heading level0 col2\" >Costs of living on campus</th>\n",
       "      <th id=\"T_21afc_level0_col3\" class=\"col_heading level0 col3\" >Ranking</th>\n",
       "    </tr>\n",
       "  </thead>\n",
       "  <tbody>\n",
       "    <tr>\n",
       "      <th id=\"T_21afc_level0_row0\" class=\"row_heading level0 row0\" >Enrolled percentage</th>\n",
       "      <td id=\"T_21afc_row0_col0\" class=\"data row0 col0\" >1.000000</td>\n",
       "      <td id=\"T_21afc_row0_col1\" class=\"data row0 col1\" >0.009891</td>\n",
       "      <td id=\"T_21afc_row0_col2\" class=\"data row0 col2\" >-0.191353</td>\n",
       "      <td id=\"T_21afc_row0_col3\" class=\"data row0 col3\" >0.141361</td>\n",
       "    </tr>\n",
       "    <tr>\n",
       "      <th id=\"T_21afc_level0_row1\" class=\"row_heading level0 row1\" >Tuition and fees</th>\n",
       "      <td id=\"T_21afc_row1_col0\" class=\"data row1 col0\" >0.009891</td>\n",
       "      <td id=\"T_21afc_row1_col1\" class=\"data row1 col1\" >1.000000</td>\n",
       "      <td id=\"T_21afc_row1_col2\" class=\"data row1 col2\" >0.781297</td>\n",
       "      <td id=\"T_21afc_row1_col3\" class=\"data row1 col3\" >0.062363</td>\n",
       "    </tr>\n",
       "    <tr>\n",
       "      <th id=\"T_21afc_level0_row2\" class=\"row_heading level0 row2\" >Costs of living on campus</th>\n",
       "      <td id=\"T_21afc_row2_col0\" class=\"data row2 col0\" >-0.191353</td>\n",
       "      <td id=\"T_21afc_row2_col1\" class=\"data row2 col1\" >0.781297</td>\n",
       "      <td id=\"T_21afc_row2_col2\" class=\"data row2 col2\" >1.000000</td>\n",
       "      <td id=\"T_21afc_row2_col3\" class=\"data row2 col3\" >-0.214582</td>\n",
       "    </tr>\n",
       "    <tr>\n",
       "      <th id=\"T_21afc_level0_row3\" class=\"row_heading level0 row3\" >Ranking</th>\n",
       "      <td id=\"T_21afc_row3_col0\" class=\"data row3 col0\" >0.141361</td>\n",
       "      <td id=\"T_21afc_row3_col1\" class=\"data row3 col1\" >0.062363</td>\n",
       "      <td id=\"T_21afc_row3_col2\" class=\"data row3 col2\" >-0.214582</td>\n",
       "      <td id=\"T_21afc_row3_col3\" class=\"data row3 col3\" >1.000000</td>\n",
       "    </tr>\n",
       "  </tbody>\n",
       "</table>\n"
      ],
      "text/plain": [
       "<pandas.io.formats.style.Styler at 0x1cad8ba3df0>"
      ]
     },
     "execution_count": 33,
     "metadata": {},
     "output_type": "execute_result"
    }
   ],
   "source": [
    "outliersForCmDf = outliersDf.drop(columns=['Name','Ranking display'])\n",
    "\n",
    "outliersForCmDf['Ranking'] = df.apply(lambda row: modifyRanking(row['Ranking']), axis=1)\n",
    "outliersForCmDf['Ranking'] = pd.to_numeric(outliersForCmDf['Ranking'])\n",
    "\n",
    "corrMatrixOutliers = outliersForCmDf.corr(method='pearson')\n",
    "corrMatrixOutliers.style.background_gradient(cmap='coolwarm')"
   ]
  },
  {
   "cell_type": "markdown",
   "metadata": {},
   "source": [
    "#### Wnioski\n",
    "- wcześniej Tuition and fees oraz Costs of living on campus korelowały negatywnie z Enrolled percentage, dla samych anomalii wsp. korelacji jest bliższy zera"
   ]
  }
 ],
 "metadata": {
  "kernelspec": {
   "display_name": "Python 3 (ipykernel)",
   "language": "python",
   "name": "python3"
  },
  "language_info": {
   "codemirror_mode": {
    "name": "ipython",
    "version": 3
   },
   "file_extension": ".py",
   "mimetype": "text/x-python",
   "name": "python",
   "nbconvert_exporter": "python",
   "pygments_lexer": "ipython3",
   "version": "3.10.8"
  }
 },
 "nbformat": 4,
 "nbformat_minor": 5
}
