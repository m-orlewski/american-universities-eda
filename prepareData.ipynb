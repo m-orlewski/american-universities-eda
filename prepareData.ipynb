{
 "cells": [
  {
   "cell_type": "code",
   "execution_count": 1,
   "metadata": {},
   "outputs": [],
   "source": [
    "import pandas as pd\n",
    "import numpy as np"
   ]
  },
  {
   "cell_type": "markdown",
   "metadata": {},
   "source": [
    "### Load and merge dataset with Shanghai ARWU ranking"
   ]
  },
  {
   "cell_type": "code",
   "execution_count": 2,
   "metadata": {},
   "outputs": [],
   "source": [
    "universityDataRawDf = pd.read_csv('./universities_data_raw.csv')\n",
    "universityRankingDf = pd.read_csv('./shanghai_ranking.csv', names=['Ranking', 'Name'])"
   ]
  },
  {
   "cell_type": "code",
   "execution_count": 3,
   "metadata": {},
   "outputs": [
    {
     "data": {
      "text/plain": [
       "(1534, 146)"
      ]
     },
     "execution_count": 3,
     "metadata": {},
     "output_type": "execute_result"
    }
   ],
   "source": [
    "universityDataMergedDf = pd.merge(universityDataRawDf, universityRankingDf, on='Name', how='left')\n",
    "universityDataMergedDf.shape"
   ]
  },
  {
   "cell_type": "markdown",
   "metadata": {},
   "source": [
    "### Drop and rename columns"
   ]
  },
  {
   "cell_type": "code",
   "execution_count": 4,
   "metadata": {},
   "outputs": [
    {
     "data": {
      "text/html": [
       "<div>\n",
       "<style scoped>\n",
       "    .dataframe tbody tr th:only-of-type {\n",
       "        vertical-align: middle;\n",
       "    }\n",
       "\n",
       "    .dataframe tbody tr th {\n",
       "        vertical-align: top;\n",
       "    }\n",
       "\n",
       "    .dataframe thead th {\n",
       "        text-align: right;\n",
       "    }\n",
       "</style>\n",
       "<table border=\"1\" class=\"dataframe\">\n",
       "  <thead>\n",
       "    <tr style=\"text-align: right;\">\n",
       "      <th></th>\n",
       "      <th>Name</th>\n",
       "      <th>Applicants total</th>\n",
       "      <th>Enrolled total</th>\n",
       "      <th>Tuition and fees</th>\n",
       "      <th>Costs of living on campus</th>\n",
       "      <th>Ranking</th>\n",
       "    </tr>\n",
       "  </thead>\n",
       "  <tbody>\n",
       "    <tr>\n",
       "      <th>0</th>\n",
       "      <td>Alabama A &amp; M University</td>\n",
       "      <td>6142.0</td>\n",
       "      <td>1104.0</td>\n",
       "      <td>7182.0</td>\n",
       "      <td>27441.0</td>\n",
       "      <td>NaN</td>\n",
       "    </tr>\n",
       "    <tr>\n",
       "      <th>1</th>\n",
       "      <td>University of Alabama at Birmingham</td>\n",
       "      <td>5689.0</td>\n",
       "      <td>1773.0</td>\n",
       "      <td>7206.0</td>\n",
       "      <td>31687.0</td>\n",
       "      <td>301-400</td>\n",
       "    </tr>\n",
       "    <tr>\n",
       "      <th>2</th>\n",
       "      <td>Amridge University</td>\n",
       "      <td>NaN</td>\n",
       "      <td>NaN</td>\n",
       "      <td>6870.0</td>\n",
       "      <td>NaN</td>\n",
       "      <td>NaN</td>\n",
       "    </tr>\n",
       "    <tr>\n",
       "      <th>3</th>\n",
       "      <td>University of Alabama in Huntsville</td>\n",
       "      <td>2054.0</td>\n",
       "      <td>651.0</td>\n",
       "      <td>9192.0</td>\n",
       "      <td>35780.0</td>\n",
       "      <td>NaN</td>\n",
       "    </tr>\n",
       "    <tr>\n",
       "      <th>4</th>\n",
       "      <td>Alabama State University</td>\n",
       "      <td>10245.0</td>\n",
       "      <td>1479.0</td>\n",
       "      <td>8720.0</td>\n",
       "      <td>25222.0</td>\n",
       "      <td>NaN</td>\n",
       "    </tr>\n",
       "  </tbody>\n",
       "</table>\n",
       "</div>"
      ],
      "text/plain": [
       "                                  Name  Applicants total  Enrolled total  \\\n",
       "0             Alabama A & M University            6142.0          1104.0   \n",
       "1  University of Alabama at Birmingham            5689.0          1773.0   \n",
       "2                   Amridge University               NaN             NaN   \n",
       "3  University of Alabama in Huntsville            2054.0           651.0   \n",
       "4             Alabama State University           10245.0          1479.0   \n",
       "\n",
       "   Tuition and fees  Costs of living on campus  Ranking  \n",
       "0            7182.0                    27441.0      NaN  \n",
       "1            7206.0                    31687.0  301-400  \n",
       "2            6870.0                        NaN      NaN  \n",
       "3            9192.0                    35780.0      NaN  \n",
       "4            8720.0                    25222.0      NaN  "
      ]
     },
     "execution_count": 4,
     "metadata": {},
     "output_type": "execute_result"
    }
   ],
   "source": [
    "universityDataMergedDf = universityDataMergedDf[['Name', 'Applicants total', 'Enrolled total', 'Tuition and fees, 2013-14',\n",
    "                                                 'Total price for out-of-state students living on campus 2013-14', 'Ranking']]\n",
    "\n",
    "universityDataDf = universityDataMergedDf.rename(columns={'Tuition and fees, 2013-14': 'Tuition and fees',\n",
    "                   'Total price for out-of-state students living on campus 2013-14':\n",
    "                   'Costs of living on campus'})\n",
    "\n",
    "universityDataDf.head(5)"
   ]
  },
  {
   "cell_type": "markdown",
   "metadata": {},
   "source": [
    "### Fill rankings for universities not in Shanghai ranking"
   ]
  },
  {
   "cell_type": "code",
   "execution_count": 5,
   "metadata": {},
   "outputs": [
    {
     "data": {
      "text/plain": [
       "Ranking display\n",
       "1000+       1420\n",
       "top 1000     114\n",
       "Name: count, dtype: int64"
      ]
     },
     "execution_count": 5,
     "metadata": {},
     "output_type": "execute_result"
    }
   ],
   "source": [
    "universityDataDf['Ranking'] = universityDataDf['Ranking'].fillna('1000+')\n",
    "universityDataDf['Ranking display'] = np.where(universityDataDf['Ranking'] == '1000+', '1000+', 'top 1000')\n",
    "\n",
    "universityDataDf['Ranking display'].value_counts()"
   ]
  },
  {
   "cell_type": "markdown",
   "metadata": {},
   "source": [
    "### Drop rows with NaN values"
   ]
  },
  {
   "cell_type": "code",
   "execution_count": 6,
   "metadata": {},
   "outputs": [
    {
     "data": {
      "text/plain": [
       "(1326, 7)"
      ]
     },
     "execution_count": 6,
     "metadata": {},
     "output_type": "execute_result"
    }
   ],
   "source": [
    "universityDataDf = universityDataDf.dropna()\n",
    "universityDataDf.shape"
   ]
  },
  {
   "cell_type": "markdown",
   "metadata": {},
   "source": [
    "### Save csv"
   ]
  },
  {
   "cell_type": "code",
   "execution_count": 7,
   "metadata": {},
   "outputs": [],
   "source": [
    "universityDataDf.to_csv('./university_data.csv', index=False)"
   ]
  }
 ],
 "metadata": {
  "kernelspec": {
   "display_name": "env",
   "language": "python",
   "name": "python3"
  },
  "language_info": {
   "codemirror_mode": {
    "name": "ipython",
    "version": 3
   },
   "file_extension": ".py",
   "mimetype": "text/x-python",
   "name": "python",
   "nbconvert_exporter": "python",
   "pygments_lexer": "ipython3",
   "version": "3.10.8"
  }
 },
 "nbformat": 4,
 "nbformat_minor": 2
}
